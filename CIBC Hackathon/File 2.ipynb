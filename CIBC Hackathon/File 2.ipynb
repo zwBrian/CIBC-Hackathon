{
 "cells": [
  {
   "cell_type": "code",
   "execution_count": 93,
   "metadata": {
    "collapsed": true
   },
   "outputs": [],
   "source": [
    "import pandas as pd\n",
    "columns = ['patientFamilyID',\n",
    "           'paitientFamilyMemberID',\n",
    "           'providerID',\n",
    "           'providerType',\n",
    "           'stateCode',\n",
    "           'dateOfService',\n",
    "           'medicalProcedureCode',\n",
    "           'dollarAmountClaim']\n",
    "df = pd.read_csv('claims_final.csv', names = columns)\n",
    "\n",
    "gb = df.groupby('providerType')\n",
    "\n",
    "\n",
    "\n"
   ]
  },
  {
   "cell_type": "code",
   "execution_count": 94,
   "metadata": {},
   "outputs": [
    {
     "name": "stdout",
     "output_type": "stream",
     "text": [
      "3240558\n"
     ]
    }
   ],
   "source": [
    "df_list = df['providerType'].unique()\n",
    "\n",
    "df_list = [df[df['providerType']==i] for i in df_list]\n",
    "print(df_list[0].shape[0])"
   ]
  },
  {
   "cell_type": "code",
   "execution_count": 95,
   "metadata": {},
   "outputs": [],
   "source": [
    "#Set up feature vectors\n",
    "\n",
    "def generate_feature_1(df):\n",
    "    # Money spent for this person at this visit\n",
    "    \n",
    "    return df['dollarAmountClaim']\n",
    "\n",
    "#generate_feature_1(df_list[0])"
   ]
  },
  {
   "cell_type": "code",
   "execution_count": 96,
   "metadata": {},
   "outputs": [],
   "source": [
    "def generate_feature_2(df):\n",
    "    # Average money spend for all previous visit in this provider from this patient\n",
    "    #df['provider_medical_concat'] = df['providerType'].astype(str).str.cat(df['medicalProcedureCode'].astype(str))\n",
    "    #df['patient']= df['patientFamilyID'].astype(str) + \"|\" + df['paitientFamilyMemberID'].astype(str) + \"|\" + df['providerID'].astype(str) \n",
    "    #df_avg_dollar = df.groupby(['patientFamilyID','paitientFamilyMemberID','providerID']).agg({'dollarAmountClaim':'mean'})\n",
    "    df = df[~df['dollarAmountClaim'].isnull()]\n",
    "    df['patient'] = df['patientFamilyID'].astype(str) + \"|\" + df['paitientFamilyMemberID'].astype(str) + \"|\" + df['providerID'].astype(str) \n",
    "    temp = df.groupby(['patient']).agg({'dollarAmountClaim':'mean'}).reset_index()\n",
    "    df = pd.merge(df, temp, on='patient')\n",
    "    \n",
    "    #df['average spent']=df_avg_dollar[]\n",
    "    #df_avg_dollar = df.groupby('patient').agg({'dollarAmountClaim':'mean'})\n",
    "    #\n",
    "    return df.dollarAmountClaim_y\n",
    "    \n",
    "\n",
    "#generate_feature_2(df_list[0])"
   ]
  },
  {
   "cell_type": "code",
   "execution_count": null,
   "metadata": {
    "collapsed": true
   },
   "outputs": [],
   "source": [
    "def generate_feature_3(df):\n",
    "    # "
   ]
  },
  {
   "cell_type": "code",
   "execution_count": 98,
   "metadata": {},
   "outputs": [
    {
     "data": {
      "image/png": "[encoded data removed]",
      "text/plain": [
       "<matplotlib.figure.Figure at 0x17f6974d0>"
      ]
     },
     "metadata": {},
     "output_type": "display_data"
    }
   ],
   "source": [
    "from sklearn.cluster import DBSCAN\n",
    "import numpy as np\n",
    "import matplotlib.pyplot as plt\n",
    "#for df in df_list:\n",
    "    # iterate over each service provider type\n",
    " #   series_f1 = generate_feature_1(df)\n",
    "  #  series_f2 = generate_feature_2(df)\n",
    "\n",
    "df = df_list[-1]\n",
    "series_f1 = generate_feature_1(df).values\n",
    "series_f2 = generate_feature_2(df).values\n",
    "X = np.zeros((len(series_f1), 2))\n",
    "X[:,0] = series_f1\n",
    "X[:,1] = series_f2\n",
    "\n",
    "db = DBSCAN(eps=0.3, min_samples=10).fit(X)\n",
    "core_samples_mask = np.zeros_like(db.labels_, dtype=bool)\n",
    "core_samples_mask[db.core_sample_indices_] = True\n",
    "labels = db.labels_\n",
    "n_clusters_ = len(set(labels)) - (1 if -1 in labels else 0)\n",
    "\n",
    "# Black removed and is used for noise instead.\n",
    "unique_labels = set(labels)\n",
    "colors = [plt.cm.Spectral(each)\n",
    "          for each in np.linspace(0, 1, len(unique_labels))]\n",
    "for k, col in zip(unique_labels, colors):\n",
    "    if k == -1:\n",
    "        # Black used for noise.\n",
    "        col = [0, 0, 0, 1]\n",
    "\n",
    "    class_member_mask = (labels == k)\n",
    "\n",
    "    xy = X[class_member_mask & core_samples_mask]\n",
    "    plt.plot(xy[:, 0], xy[:, 1], 'o', markerfacecolor=tuple(col),\n",
    "             markeredgecolor='k', markersize=14)\n",
    "\n",
    "    xy = X[class_member_mask & ~core_samples_mask]\n",
    "    plt.plot(xy[:, 0], xy[:, 1], 'o', markerfacecolor=tuple(col),\n",
    "             markeredgecolor='k', markersize=6)\n",
    "\n",
    "plt.title('Estimated number of clusters: %d' % n_clusters_)\n",
    "plt.show()\n",
    "    \n",
    "\n",
    "\n",
    "    "
   ]
  },
  {
   "cell_type": "markdown",
   "metadata": {},
   "source": [
    "X"
   ]
  },
  {
   "cell_type": "code",
   "execution_count": 66,
   "metadata": {},
   "outputs": [
    {
     "data": {
      "text/plain": [
       "array([ 707.08,  381.37, 1681.68, ...,  666.64,  475.65,  594.56])"
      ]
     },
     "execution_count": 66,
     "metadata": {},
     "output_type": "execute_result"
    }
   ],
   "source": [
    "series_f1"
   ]
  },
  {
   "cell_type": "code",
   "execution_count": 67,
   "metadata": {},
   "outputs": [
    {
     "data": {
      "text/plain": [
       "array([ 828.484,  828.484,  828.484, ..., 1044.42 ,  967.065,  967.065])"
      ]
     },
     "execution_count": 67,
     "metadata": {},
     "output_type": "execute_result"
    }
   ],
   "source": [
    "series_f2"
   ]
  },
  {
   "cell_type": "code",
   "execution_count": 81,
   "metadata": {},
   "outputs": [
    {
     "data": {
      "text/plain": [
       "array([[1151.15, 1151.15],\n",
       "       [ 797.69,  860.87],\n",
       "       [ 804.  ,  860.87],\n",
       "       ...,\n",
       "       [1044.42, 1230.86],\n",
       "       [1485.83, 1385.29],\n",
       "       [1456.83, 1151.15]])"
      ]
     },
     "execution_count": 81,
     "metadata": {},
     "output_type": "execute_result"
    }
   ],
   "source": []
  },
  {
   "cell_type": "code",
   "execution_count": null,
   "metadata": {
    "collapsed": true
   },
   "outputs": [],
   "source": []
  }
 ],
 "metadata": {
  "kernelspec": {
   "display_name": "Python 2",
   "language": "python",
   "name": "python2"
  },
  "language_info": {
   "codemirror_mode": {
    "name": "ipython",
    "version": 2
   },
   "file_extension": ".py",
   "mimetype": "text/x-python",
   "name": "python",
   "nbconvert_exporter": "python",
   "pygments_lexer": "ipython2",
   "version": "2.7.14"
  }
 },
 "nbformat": 4,
 "nbformat_minor": 2
}
